# -*- coding: utf-8 -*-
"""
Created on Thu Nov  3 01:04:42 2022

@author: thtuh
"""
import pandas as pd
import seaborn as sns
import matplotlib.pyplot as plt

df = pd.read_excel('C:/Users/thtuh/Desktop/project/Final Data/CDC/for python/sheet 1.xlsx')
#f2=df[['Evaporation', 'Precipitation', 'Temperature', 'Discharge']]
df2=df.iloc[:,1:]  #row all, Column after 1
#df2.head()
df2.describe()

# displaying heatmap
plt.figure(figsize=(14,6))
sns.heatmap(df2.corr(), linewidth=.5,cmap="crest", annot=True,annot_kws={"size":20})
#df3=df2.iloc[:,[0,1,3]]
#df3 = pd.read_excel('/content/sheet 1.xlsx')

import numpy as np
import pandas as pd
import matplotlib.pyplot as plt
import math
from pandas import read_csv
from keras.models import Sequential
from keras.layers import Dense
from keras.wrappers.scikit_learn import KerasRegressor
from sklearn.model_selection import cross_val_score
from sklearn.metrics import mean_squared_error
from sklearn.model_selection import KFold
from sklearn.pipeline import Pipeline
from sklearn.model_selection import train_test_split
from sklearn.preprocessing import MinMaxScaler
import sklearn as sklearn

# load data and arrange into Pandas dataframe
cols=["Evaporation","Precipitation","Discharge"]
df_new=pd.read_excel("C:/Users/thtuh/Desktop/project/Final Data/CDC/for python/sheet 1.xlsx",usecols=cols)
df_new2= df_new.drop(['Evaporation','Precipitation'],axis=1)

#excel_file = 'C:/Users/thtuh/Desktop/project/Final Data/CDC/for python/sheet 1.xlsx'
#Dt = pd.read_excel(excel_file,usecols=['Date'])

#Split into parameters and target (Discharge)
#X = df.drop('Discharge', axis = 1)
#y = df['Discharge']

df_new2['Discharge_2'] = df_new2['Discharge'].rolling(20).mean().replace(np.nan, 0)
df_new2['Discharge_3'] = df_new2['Discharge'].rolling(30).mean().replace(np.nan, 0)
df_new2['Discharge_4'] =df_new2['Discharge'].rolling(40).mean().replace(np.nan, 0)
df_new2['Discharge_5'] = df_new2['Discharge'].rolling(50).mean().replace(np.nan, 0)
df_new2['Discharge_6'] = df_new2['Discharge'].rolling(60).mean().replace(np.nan, 0)
df_new2['Discharge_7'] = df_new2['Discharge'].rolling(80).mean().replace(np.nan, 0)

train = df_new2[0:1800]
test  = df_new2[1800:]

trainX = train.drop('Discharge', axis = 1)
trainY = train['Discharge']
testX  = test.drop('Discharge', axis = 1)
testY  = test['Discharge']



#trainX, testX, trainY, testY = train_test_split(X, y, test_size = 0.33, random_state = 20)


#Scale data, otherwise model will fail.
#Standardize features by removing the mean and scaling to unit variance

from sklearn.preprocessing import StandardScaler
scaler=StandardScaler()
scaler.fit(trainX)

X_train_scaled = scaler.transform(trainX)
X_test_scaled = scaler.transform(testX)




